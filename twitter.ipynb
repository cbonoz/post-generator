{
 "cells": [
  {
   "cell_type": "code",
   "execution_count": 29,
   "metadata": {},
   "outputs": [
    {
     "name": "stdout",
     "output_type": "stream",
     "text": [
      "ready sk-proj-XV** gpt-4o-mini\n"
     ]
    }
   ],
   "source": [
    "from openai import OpenAI\n",
    "import os\n",
    "from dotenv import load_dotenv\n",
    "import requests\n",
    "import random\n",
    "\n",
    "load_dotenv()\n",
    "openai_key = os.getenv('OPENAI_API_KEY')\n",
    "\n",
    "CHAT_MODEL = 'gpt-4o-mini'\n",
    "print('ready', openai_key[:10] + \"**\", CHAT_MODEL)"
   ]
  },
  {
   "cell_type": "code",
   "execution_count": null,
   "metadata": {},
   "outputs": [],
   "source": []
  },
  {
   "cell_type": "code",
   "execution_count": 30,
   "metadata": {},
   "outputs": [],
   "source": [
    "class PostGenerator:\n",
    "\n",
    "\n",
    "    def __init__(self, chat_model=CHAT_MODEL):\n",
    "        openai_key = os.environ['OPENAI_API_KEY']\n",
    "        client = OpenAI(\n",
    "            api_key=openai_key,  # this is also the default, it can be omitted\n",
    "        )\n",
    "        self.client = client\n",
    "        self.chat_model = chat_model\n",
    "        self.max_tokens = 160\n",
    "\n",
    "    # https://platform.openai.com/docs/guides/text-generation#text-generation-models\n",
    "    def create_response_for_messages(self, messages):\n",
    "        response = self.client.chat.completions.create(\n",
    "            model=self.chat_model,\n",
    "            messages=messages,\n",
    "            max_tokens=self.max_tokens\n",
    "        )\n",
    "        return response.choices[0].message.content\n",
    "\n",
    "\n",
    "    def generate_tweet(self, user_background, target_audience, event):\n",
    "        prompt = f\"\"\"Generate a formatted tweet (with newlines) for someone with a background in {user_background}, targeting {target_audience}. Current event: {event}.\n",
    "        -- Using this event for the post take a hard stance or side on the topic with a short explanation as to why. No emojis or hashtags.\n",
    "        Compare it to something in the past\"\"\"\n",
    "        messages = [\n",
    "            {'role': 'developer', 'content': 'You are a social media manager responsible for making posts. Do not make these posts sound robotics. Insert abbreviations and language to make the post sound human.'},\n",
    "            {'role': 'user', 'content': prompt}\n",
    "        ]\n",
    "        tweet = self.create_response_for_messages(messages)\n",
    "        return tweet\n",
    "\n",
    "    def rate_tweet(self, tweet):\n",
    "        prompt = f\"Rate the following tweet on its effectiveness from 1-10 and provide the top 3 suggestions for improvement:\\n\\n{tweet}\"\n",
    "        messages = [\n",
    "            {'role': 'user', 'content': prompt}\n",
    "        ]\n",
    "        response = self.create_response_for_messages(messages)\n",
    "        return response\n",
    "\n",
    "    def improve_tweet(self, tweet, suggestions):\n",
    "        prompt = f\"Improve the following tweet based on these suggestions:\\n\\nTweet: {tweet}\\n\\nSuggestions: {suggestions}. The post should not have emojis or hashtags.\"\n",
    "        messages = [\n",
    "            {'role': 'user', 'content': prompt}\n",
    "        ]\n",
    "        response = self.create_response_for_messages(messages)\n",
    "        return response\n"
   ]
  },
  {
   "cell_type": "code",
   "execution_count": 31,
   "metadata": {},
   "outputs": [],
   "source": [
    "def format_article(a):\n",
    "    text = f\"{a['title']} {a[\"description\"]}\"\n",
    "    return text.replace('[Removed]', '')\n",
    "\n",
    "def get_current_events(theme):\n",
    "    response = requests.get('https://newsapi.org/v2/everything', params={\n",
    "        'apiKey': os.getenv('NEWS_API_KEY'),\n",
    "        'q': theme,\n",
    "        'pageSize': 5\n",
    "    })\n",
    "    articles = response.json().get('articles', [])\n",
    "    articles = [format_article(a) for a in articles]\n",
    "    return articles\n",
    "\n",
    "current_events = None"
   ]
  },
  {
   "cell_type": "code",
   "execution_count": null,
   "metadata": {},
   "outputs": [
    {
     "name": "stdout",
     "output_type": "stream",
     "text": [
      "fetched events [\"Can RFK Jr make America's diet healthy again? Kennedy's plans to ban dyes in cereals and fluoride in water could get major pushback from the food industry.\", 'Biden backs calls to ban congressional stock trading President Joe Biden lent his voice to the growing bipartisan calls on the Hill to end stock trading for congressional members.', 'The Download: words of wisdom from the departing White House tech advisor, and controversial AI manga translation This is today’s edition of\\xa0The Download,\\xa0our weekday newsletter that provides a daily dose of what’s going on in the world of technology. What the departing White House chief tech advisor has to say on AI President Biden’s administration will end within two m…', 'China sends cloud powered by homebrew Loongson CPUs into space Plus: Korea cracks down on Temu; US, Vietnam, sign infosec pact; India extends controversial hardware import law; and more\\nAsia In Brief Chinese chip designer Loongson last Friday announced its processors are powering a cloud computing platform that has been …', 'House Passes Bill That Bans Transgender Care for Military Members’ Children The House approved a $895 billion bill, which included a provision prohibiting gender-affirming care for transgender children of service members']\n"
     ]
    }
   ],
   "source": [
    "# Example usage\n",
    "background = \"software, engineering, science, entrepreneurship\"\n",
    "interests = \"coding, open-source projects, hackathons, and startups\"\n",
    "target_audience = \"developers and entrepreneurs\"\n",
    "theme = \"technology, science\"\n",
    "\n",
    "if not current_events:\n",
    "  current_events = get_current_events(theme)\n",
    "  print('fetched events', current_events)\n",
    "else:\n",
    "  print('using cached events', current_events)"
   ]
  },
  {
   "cell_type": "code",
   "execution_count": 33,
   "metadata": {},
   "outputs": [
    {
     "name": "stdout",
     "output_type": "stream",
     "text": [
      "selected event House Passes Bill That Bans Transgender Care for Military Members’ Children The House approved a $895 billion bill, which included a provision prohibiting gender-affirming care for transgender children of service members\n",
      "generated tweet:\n",
      " The recent House vote to ban gender-affirming care for military members’ children is a step backward for equality and human rights. \n",
      "\n",
      "We’ve seen similar restrictions before, like the \"Don't Ask, Don't Tell\" policy, which marginalized LGBTQ+ service members. \n",
      "\n",
      "Every child, regardless of their parents' service, deserves access to care that supports their identity. Our future leaders should not be silenced or sidelined. Let's advocate for inclusivity!\n"
     ]
    }
   ],
   "source": [
    "random_index = 0 if len(current_events) == 1 else random.randint(0, len(current_events) - 1)\n",
    "\n",
    "event = current_events[random_index]\n",
    "print('selected event', event)\n",
    "\n",
    "generator = PostGenerator()\n",
    "tweet = generator.generate_tweet(background, target_audience, event)\n",
    "print('generated tweet:\\n', tweet)"
   ]
  },
  {
   "cell_type": "code",
   "execution_count": null,
   "metadata": {},
   "outputs": [],
   "source": []
  }
 ],
 "metadata": {
  "kernelspec": {
   "display_name": "env",
   "language": "python",
   "name": "python3"
  },
  "language_info": {
   "codemirror_mode": {
    "name": "ipython",
    "version": 3
   },
   "file_extension": ".py",
   "mimetype": "text/x-python",
   "name": "python",
   "nbconvert_exporter": "python",
   "pygments_lexer": "ipython3",
   "version": "3.13.0"
  }
 },
 "nbformat": 4,
 "nbformat_minor": 2
}
