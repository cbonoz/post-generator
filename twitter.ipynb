{
 "cells": [
  {
   "cell_type": "code",
   "execution_count": 101,
   "metadata": {},
   "outputs": [
    {
     "name": "stdout",
     "output_type": "stream",
     "text": [
      "ready sk-proj-XV** gpt-4o-mini\n"
     ]
    }
   ],
   "source": [
    "from openai import OpenAI\n",
    "import os\n",
    "from dotenv import load_dotenv\n",
    "import requests\n",
    "\n",
    "load_dotenv()\n",
    "\n",
    "CHAT_MODEL = 'gpt-4o-mini'\n",
    "print('ready', openai_key[:10] + \"**\", CHAT_MODEL)"
   ]
  },
  {
   "cell_type": "code",
   "execution_count": null,
   "metadata": {},
   "outputs": [],
   "source": []
  },
  {
   "cell_type": "code",
   "execution_count": 102,
   "metadata": {},
   "outputs": [],
   "source": [
    "class PostGenerator:\n",
    "\n",
    "\n",
    "    def __init__(self, chat_model=CHAT_MODEL):\n",
    "        openai_key = os.environ['OPENAI_API_KEY']\n",
    "        client = OpenAI(\n",
    "            api_key=openai_key,  # this is also the default, it can be omitted\n",
    "        )\n",
    "        self.client = client\n",
    "        self.chat_model = chat_model\n",
    "        self.max_tokens = 160\n",
    "\n",
    "    # https://platform.openai.com/docs/guides/text-generation#text-generation-models\n",
    "    def create_response_for_messages(self, messages):\n",
    "        response = self.client.chat.completions.create(\n",
    "            model=self.chat_model,\n",
    "            messages=messages,\n",
    "            max_tokens=self.max_tokens\n",
    "        )\n",
    "        print('response', response)\n",
    "        return response.choices[0].message.content\n",
    "\n",
    "\n",
    "    def generate_tweet(self, user_background, user_interests, target_audience, current_events):\n",
    "        events_str = ', '.join(current_events)\n",
    "        prompt = f\"Generate a formatted tweet (with newlines) for someone with a background in {user_background}, who loves {user_interests}, targeting {target_audience}. Current events: {events_str}. Pick one of these events for the post and then take a hard stance or side on the topic with a short explanation as to why. No emojis or hashtags.\"\n",
    "        print('generate_tweet', prompt)\n",
    "        messages = [\n",
    "            {'role': 'developer', 'content': 'You are a social media manager responsible for making posts. Do not make these posts sound robotics. Insert abbreviations and language to make the post sound human.'},\n",
    "            {'role': 'user', 'content': prompt}\n",
    "        ]\n",
    "        tweet = self.create_response_for_messages(messages)\n",
    "        return tweet\n",
    "\n",
    "\n",
    "def format_article(a):\n",
    "    text = f\"{a['title']} {a[\"description\"]}\"\n",
    "    return text.replace('[Removed]', '')\n",
    "\n",
    "def get_current_events(theme):\n",
    "    response = requests.get('https://newsapi.org/v2/everything', params={\n",
    "        'apiKey': os.getenv('NEWS_API_KEY'),\n",
    "        'q': theme,\n",
    "        'pageSize': 5\n",
    "    })\n",
    "    articles = response.json().get('articles', [])\n",
    "    articles = [format_article(a) for a in articles]\n",
    "    return articles\n",
    "\n",
    "current_events = None"
   ]
  },
  {
   "cell_type": "code",
   "execution_count": 103,
   "metadata": {},
   "outputs": [
    {
     "name": "stdout",
     "output_type": "stream",
     "text": [
      "fetched events [\"Can RFK Jr make America's diet healthy again? Kennedy's plans to ban dyes in cereals and fluoride in water could get major pushback from the food industry.\", 'Biden backs calls to ban congressional stock trading President Joe Biden lent his voice to the growing bipartisan calls on the Hill to end stock trading for congressional members.', 'The Download: words of wisdom from the departing White House tech advisor, and controversial AI manga translation This is today’s edition of\\xa0The Download,\\xa0our weekday newsletter that provides a daily dose of what’s going on in the world of technology. What the departing White House chief tech advisor has to say on AI President Biden’s administration will end within two m…', 'China sends cloud powered by homebrew Loongson CPUs into space Plus: Korea cracks down on Temu; US, Vietnam, sign infosec pact; India extends controversial hardware import law; and more\\nAsia In Brief Chinese chip designer Loongson last Friday announced its processors are powering a cloud computing platform that has been …', 'House Passes Bill That Bans Transgender Care for Military Members’ Children The House approved a $895 billion bill, which included a provision prohibiting gender-affirming care for transgender children of service members']\n"
     ]
    }
   ],
   "source": [
    "# Example usage\n",
    "background = \"software, engineering, science, business. Worked at a startup three years as a head of engineering and at larger companies as a software engineer. \"\n",
    "interests = \"coding, open-source projects, hackathons, and startups\"\n",
    "target_audience = \"developers and entrepreneurs\"\n",
    "theme = \"technology, science, controversial\"\n",
    "\n",
    "if not current_events:\n",
    "  current_events = get_current_events(theme)\n",
    "  print('fetched events', current_events)\n",
    "else:\n",
    "  print('using cached events', current_events)"
   ]
  },
  {
   "cell_type": "code",
   "execution_count": 104,
   "metadata": {},
   "outputs": [
    {
     "name": "stdout",
     "output_type": "stream",
     "text": [
      "generate_tweet Generate a formatted tweet (with newlines) for someone with a background in software, engineering, science, business. Worked at a startup three years as a head of engineering and at larger companies as a software engineer. , who loves coding, open-source projects, hackathons, and startups, targeting developers and entrepreneurs. Current events: Can RFK Jr make America's diet healthy again? Kennedy's plans to ban dyes in cereals and fluoride in water could get major pushback from the food industry., Biden backs calls to ban congressional stock trading President Joe Biden lent his voice to the growing bipartisan calls on the Hill to end stock trading for congressional members., The Download: words of wisdom from the departing White House tech advisor, and controversial AI manga translation This is today’s edition of The Download, our weekday newsletter that provides a daily dose of what’s going on in the world of technology. What the departing White House chief tech advisor has to say on AI President Biden’s administration will end within two m…, China sends cloud powered by homebrew Loongson CPUs into space Plus: Korea cracks down on Temu; US, Vietnam, sign infosec pact; India extends controversial hardware import law; and more\n",
      "Asia In Brief Chinese chip designer Loongson last Friday announced its processors are powering a cloud computing platform that has been …, House Passes Bill That Bans Transgender Care for Military Members’ Children The House approved a $895 billion bill, which included a provision prohibiting gender-affirming care for transgender children of service members. Pick one of these events for the post and then take a hard stance or side on the topic with a short explanation as to why. No emojis or hashtags.\n",
      "response ChatCompletion(id='chatcmpl-AhOhOJ3gfdmnuBlLZiS73psxrNnpL', choices=[Choice(finish_reason='stop', index=0, logprobs=None, message=ChatCompletionMessage(content=\"As a dev and startup enthusiast, I find the push from Biden to ban congressional stock trading crucial. Transparency is key in rebuilding trust in our political system. When lawmakers profit off stocks, it raises questions on their decision-making process. We need leaders focused on the greater good, not personal gains. This step could pave the way for more ethical governance, fostering a healthier environment for innovation and collaboration in tech and business. Let's prioritize integrity!\", refusal=None, role='assistant', audio=None, function_call=None, tool_calls=None))], created=1734906410, model='gpt-4o-mini-2024-07-18', object='chat.completion', service_tier=None, system_fingerprint='fp_d02d531b47', usage=CompletionUsage(completion_tokens=88, prompt_tokens=383, total_tokens=471, completion_tokens_details=CompletionTokensDetails(accepted_prediction_tokens=0, audio_tokens=0, reasoning_tokens=0, rejected_prediction_tokens=0), prompt_tokens_details=PromptTokensDetails(audio_tokens=0, cached_tokens=0)))\n"
     ]
    }
   ],
   "source": [
    "post_generator = PostGenerator()\n",
    "tweet = post_generator.generate_tweet(background, interests, target_audience, current_events)\n"
   ]
  },
  {
   "cell_type": "code",
   "execution_count": 105,
   "metadata": {},
   "outputs": [
    {
     "name": "stdout",
     "output_type": "stream",
     "text": [
      "As a dev and startup enthusiast, I find the push from Biden to ban congressional stock trading crucial. Transparency is key in rebuilding trust in our political system. When lawmakers profit off stocks, it raises questions on their decision-making process. We need leaders focused on the greater good, not personal gains. This step could pave the way for more ethical governance, fostering a healthier environment for innovation and collaboration in tech and business. Let's prioritize integrity!\n"
     ]
    }
   ],
   "source": [
    "print(tweet)\n"
   ]
  },
  {
   "cell_type": "code",
   "execution_count": null,
   "metadata": {},
   "outputs": [],
   "source": []
  }
 ],
 "metadata": {
  "kernelspec": {
   "display_name": "env",
   "language": "python",
   "name": "python3"
  },
  "language_info": {
   "codemirror_mode": {
    "name": "ipython",
    "version": 3
   },
   "file_extension": ".py",
   "mimetype": "text/x-python",
   "name": "python",
   "nbconvert_exporter": "python",
   "pygments_lexer": "ipython3",
   "version": "3.13.0"
  }
 },
 "nbformat": 4,
 "nbformat_minor": 2
}
