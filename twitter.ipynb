{
 "cells": [
  {
   "cell_type": "code",
   "execution_count": 12,
   "metadata": {},
   "outputs": [
    {
     "name": "stdout",
     "output_type": "stream",
     "text": [
      "ready sk-pro** 145405** gpt-4o-mini\n"
     ]
    }
   ],
   "source": [
    "from openai import OpenAI\n",
    "import os\n",
    "from dotenv import load_dotenv\n",
    "import requests\n",
    "import random\n",
    "from datetime import datetime\n",
    "\n",
    "load_dotenv()\n",
    "OPENAI_KEY = os.getenv('OPENAI_API_KEY')\n",
    "NEWS_API_KEY = os.getenv('NEWS_API_KEY')\n",
    "\n",
    "CHAT_MODEL = 'gpt-4o-mini'\n",
    "\n",
    "def abbreviate(text, length=6):\n",
    "    if len(text) <= length:\n",
    "        return text\n",
    "    \n",
    "    return text[:length] + \"**\"\n",
    "\n",
    "print('ready', abbreviate(OPENAI_KEY), abbreviate(NEWS_API_KEY), CHAT_MODEL)"
   ]
  },
  {
   "cell_type": "code",
   "execution_count": 13,
   "metadata": {},
   "outputs": [],
   "source": [
    "class PostGenerator:\n",
    "\n",
    "\n",
    "    def __init__(self, chat_model=CHAT_MODEL):\n",
    "        client = OpenAI(\n",
    "            api_key=OPENAI_KEY,  # this is also the default, it can be omitted\n",
    "        )\n",
    "        self.client = client\n",
    "        self.chat_model = chat_model\n",
    "        self.max_tokens = 160\n",
    "\n",
    "    # https://platform.openai.com/docs/guides/text-generation#text-generation-models\n",
    "    def create_response_for_messages(self, messages):\n",
    "        response = self.client.chat.completions.create(\n",
    "            model=self.chat_model,\n",
    "            messages=messages,\n",
    "            max_tokens=self.max_tokens\n",
    "        )\n",
    "        return response.choices[0].message.content\n",
    "\n",
    "\n",
    "    def generate_tweet(self, user_background, target_audience, event):\n",
    "        prompt = f\"\"\"Generate a formatted tweet (with newlines) for someone with a background in {user_background}, targeting {target_audience}. Current event: {event}.\n",
    "        -- Using this event for the post take a hard stance or side on the topic with a short explanation as to why. No emojis or hashtags.\n",
    "        Compare it to something in the past\"\"\"\n",
    "        messages = [\n",
    "            {'role': 'developer', 'content': 'You are a social media manager responsible for making posts. Do not make these posts sound robotic. Insert abbreviations and language to make the post sound human. Do not mention the target audience but use it to influence the writing.'},\n",
    "            {'role': 'user', 'content': prompt}\n",
    "        ]\n",
    "        tweet = self.create_response_for_messages(messages)\n",
    "        return tweet\n",
    "\n",
    "    def rate_tweet(self, tweet):\n",
    "        prompt = f\"Rate the following tweet on its effectiveness from 1-10 and provide the top 3 suggestions for improvement:\\n\\n{tweet}\"\n",
    "        messages = [\n",
    "            {'role': 'user', 'content': prompt}\n",
    "        ]\n",
    "        response = self.create_response_for_messages(messages)\n",
    "        return response\n",
    "\n",
    "    def improve_tweet(self, tweet, suggestions):\n",
    "        prompt = f\"Improve the following tweet based on these suggestions:\\n\\nTweet: {tweet}\\n\\nSuggestions: {suggestions}. The post should not have emojis or hashtags.\"\n",
    "        messages = [\n",
    "            {'role': 'user', 'content': prompt}\n",
    "        ]\n",
    "        response = self.create_response_for_messages(messages)\n",
    "        return response\n",
    "\n",
    "    def generate_image_from_post(self, post):\n",
    "        prompt = f\"\"\"Generate an interesting/funny social media image based on this post snippet: {post[:100]}\"\"\"\n",
    "        response = self.client.images.generate(\n",
    "            model=\"dall-e-3\",\n",
    "            prompt=prompt,\n",
    "            n=1,\n",
    "            size=\"1024x1024\"\n",
    "        )\n",
    "        return response\n",
    "\n",
    "    def save_tweet_and_image(self, tweet, image_response=None):\n",
    "        timestamp = datetime.now().strftime(\"%Y%m%d_%H%M%S\")\n",
    "        output_dir = os.path.join(\"output\", timestamp)\n",
    "        os.makedirs(output_dir, exist_ok=True)\n",
    "\n",
    "        tweet_path = os.path.join(output_dir, \"tweet.txt\")\n",
    "        with open(tweet_path, \"w\") as f:\n",
    "            f.write(tweet)\n",
    "\n",
    "        if image_response:\n",
    "            for i, img in enumerate(image_response.data):\n",
    "                image_path = os.path.join(output_dir, f\"image_{i}.png\")\n",
    "                with open(image_path, \"wb\") as f:\n",
    "                    f.write(requests.get(img.url).content)\n"
   ]
  },
  {
   "cell_type": "code",
   "execution_count": null,
   "metadata": {},
   "outputs": [],
   "source": []
  },
  {
   "cell_type": "code",
   "execution_count": 14,
   "metadata": {},
   "outputs": [],
   "source": [
    "def format_article(a):\n",
    "    text = f\"{a['title']} {a[\"description\"]}\"\n",
    "    return text.replace('[Removed]', '')\n",
    "\n",
    "def get_current_events(theme):\n",
    "    response = requests.get('https://newsapi.org/v2/everything', params={\n",
    "        'apiKey': NEWS_API_KEY,\n",
    "        'q': theme,\n",
    "        'pageSize': 5\n",
    "    })\n",
    "    articles = response.json()\n",
    "    articles = articles.get('articles', [])\n",
    "    articles = [format_article(a) for a in articles]\n",
    "    return articles\n",
    "\n",
    "current_events = None"
   ]
  },
  {
   "cell_type": "code",
   "execution_count": 15,
   "metadata": {},
   "outputs": [
    {
     "name": "stdout",
     "output_type": "stream",
     "text": [
      "fetched events ['Biden backs calls to ban congressional stock trading President Joe Biden lent his voice to the growing bipartisan calls on the Hill to end stock trading for congressional members.', 'The Download: words of wisdom from the departing White House tech advisor, and controversial AI manga translation This is today’s edition of\\xa0The Download,\\xa0our weekday newsletter that provides a daily dose of what’s going on in the world of technology. What the departing White House chief tech advisor has to say on AI President Biden’s administration will end within two m…', 'House Passes Bill That Bans Transgender Care for Military Members’ Children The House approved a $895 billion bill, which included a provision prohibiting gender-affirming care for transgender children of service members', 'Study likely to change standard of care for deadly strokes Endovascular therapy, a minimally invasive surgery performed inside the blood vessels, is preferred to alternative approaches for vessel obstructions in life-sustaining areas of the brain, analysis suggests.', \"Trump's Cabinet woes are back, earlier than ever President-elect Donald Trump could break the record for most failed Cabinet nominations to start a term.\"]\n"
     ]
    }
   ],
   "source": [
    "# Example usage\n",
    "background = \"software, engineering, science, entrepreneurship\"\n",
    "interests = \"coding, open-source projects, hackathons, and startups\"\n",
    "target_audience = \"developers, entrepreneurs\"\n",
    "theme = \"technology, science, controversial\"\n",
    "\n",
    "if not current_events:\n",
    "  current_events = get_current_events(theme)\n",
    "  print('fetched events', current_events)\n",
    "else:\n",
    "  print('using cached events', current_events)"
   ]
  },
  {
   "cell_type": "code",
   "execution_count": 16,
   "metadata": {},
   "outputs": [],
   "source": [
    "random_index = 0 if len(current_events) == 1 else random.randint(0, len(current_events) - 1)\n",
    "\n",
    "# use random index or select\n",
    "\n",
    "event = current_events[1]\n",
    "\n",
    "post_generator = PostGenerator()\n",
    "\n"
   ]
  },
  {
   "cell_type": "code",
   "execution_count": null,
   "metadata": {},
   "outputs": [
    {
     "name": "stdout",
     "output_type": "stream",
     "text": [
      "selected event Biden backs calls to ban congressional stock trading President Joe Biden lent his voice to the growing bipartisan calls on the Hill to end stock trading for congressional members.\n",
      "generated tweet\n",
      "Big news: Biden’s backing a push to ban congressional stock trading. \n",
      "\n",
      "This isn't just about ethics; it’s about transparency in our governing bodies. \n",
      "\n",
      "Remember the Enron scandal? We learned 1st hand how unchecked power can lead to corruption. \n",
      "\n",
      "If our leaders can profit from insider info, how can we trust their decisions? Time for action!\n"
     ]
    }
   ],
   "source": [
    "random_index = 0 if len(current_events) == 1 else random.randint(0, len(current_events) - 1)\n",
    "\n",
    "event = current_events[random_index]\n",
    "print('selected event', event)\n",
    "\n",
    "generator = PostGenerator()\n",
    "tweet = generator.generate_tweet(background, target_audience, event)\n",
    "print('generated tweet')\n",
    "print(tweet)\n",
    "\n",
    "try:\n",
    "  image_response = generator.generate_image_from_post(tweet)\n",
    "  print(image_response)\n",
    "except Exception as e:\n",
    "  print('error generating image', e)\n",
    "  image_response = None\n",
    "\n",
    "generator.save_tweet_and_image(tweet, image_response)\n"
   ]
  },
  {
   "cell_type": "code",
   "execution_count": null,
   "metadata": {},
   "outputs": [],
   "source": []
  },
  {
   "cell_type": "code",
   "execution_count": null,
   "metadata": {},
   "outputs": [],
   "source": []
  },
  {
   "cell_type": "code",
   "execution_count": null,
   "metadata": {},
   "outputs": [],
   "source": []
  },
  {
   "cell_type": "code",
   "execution_count": null,
   "metadata": {},
   "outputs": [],
   "source": []
  },
  {
   "cell_type": "code",
   "execution_count": null,
   "metadata": {},
   "outputs": [],
   "source": []
  }
 ],
 "metadata": {
  "kernelspec": {
   "display_name": "env",
   "language": "python",
   "name": "python3"
  },
  "language_info": {
   "codemirror_mode": {
    "name": "ipython",
    "version": 3
   },
   "file_extension": ".py",
   "mimetype": "text/x-python",
   "name": "python",
   "nbconvert_exporter": "python",
   "pygments_lexer": "ipython3",
   "version": "3.12.4"
  }
 },
 "nbformat": 4,
 "nbformat_minor": 2
}
